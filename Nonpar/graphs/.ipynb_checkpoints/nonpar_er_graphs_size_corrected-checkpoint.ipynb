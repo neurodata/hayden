{
 "cells": [
  {
   "cell_type": "code",
   "execution_count": 1,
   "metadata": {},
   "outputs": [],
   "source": [
    "# %load_ext autoreload\n",
    "# %autoreload 2\n",
    "# %matplotlib inline\n",
    "import time\n",
    "import datetime\n",
    "import numpy as np\n",
    "import pickle as pkl\n",
    "from tqdm import tqdm\n",
    "from scipy import stats\n",
    "import matplotlib.pyplot as plt\n",
    "from multiprocessing import Pool, cpu_count\n",
    "from graspy.simulations import er_np, sbm\n",
    "from graspy.embed import AdjacencySpectralEmbed\n",
    "from graspy.inference import LatentDistributionTest"
   ]
  },
  {
   "cell_type": "code",
   "execution_count": 2,
   "metadata": {},
   "outputs": [],
   "source": [
    "def fit_plug_in_variance_estimator(X):\n",
    "    '''\n",
    "    Takes in ASE of a graph and returns a function that estimates\n",
    "    the variance-covariance matrix at a given point using the\n",
    "    plug-in estimator from the RDPG Central Limit Theorem.\n",
    "    (Athreya et al., RDPG survey, Equation 10)\n",
    "    \n",
    "    X : adjacency spectral embedding of a graph\n",
    "        numpy array in M_{n,d}\n",
    "        \n",
    "    returns:\n",
    "    a function that estimates variance (see below)\n",
    "    '''\n",
    "    n = len(X)\n",
    "    delta = 1 / (n) * (X.T @ X)\n",
    "    delta_inverse = np.linalg.inv(delta)\n",
    "    \n",
    "    def plug_in_variance_estimator(x):\n",
    "        '''\n",
    "        Takes in a point of a matrix of points in R^d and returns an\n",
    "        estimated covariance matrix for each of the points\n",
    "        \n",
    "        x: points to estimate variance at. numpy (n, d). \n",
    "           if 1-dimensional - reshaped to (1, d)\n",
    "           \n",
    "        returns:\n",
    "        (n, d, d) n variance-covariance matrices of the estimated points.\n",
    "        '''\n",
    "        if x.ndim < 2:\n",
    "            x = x.reshape(1, -1)\n",
    "        middle_term_scalar = (x @ X.T - (x @ X.T) ** 2)\n",
    "        middle_term_matrix = np.einsum('bi,bo->bio', X, X) # can be precomputed\n",
    "        middle_term = np.tensordot(middle_term_scalar,\n",
    "                                   middle_term_matrix, axes = 1)\n",
    "        # preceeding three lines are a vectorized version of this\n",
    "        # middle_term = 0\n",
    "        # for i in range(n):\n",
    "        #     middle_term += np.multiply.outer((x @ X[i] - (x @ X[i]) ** 2),\n",
    "        #                                      np.outer(X[i], X[i]))\n",
    "        return delta_inverse @ (middle_term / n) @ delta_inverse \n",
    "        \n",
    "    return plug_in_variance_estimator"
   ]
  },
  {
   "cell_type": "code",
   "execution_count": 3,
   "metadata": {},
   "outputs": [],
   "source": [
    "def sample_noisy_points(X, Y):\n",
    "    n = len(X)\n",
    "    m = len(Y)\n",
    "    two_samples = np.concatenate([X, Y], axis=0)\n",
    "    get_sigma = fit_plug_in_variance_estimator(two_samples)\n",
    "    sigma_X = get_sigma(X) / m\n",
    "    sigma_Y = get_sigma(Y) / n\n",
    "    X_sampled = np.zeros(X.shape)\n",
    "    for i in range(n):\n",
    "        X_sampled[i,:] = X[i, :] + stats.multivariate_normal.rvs(cov=sigma_X[i])\n",
    "    Y_sampled = np.zeros(Y.shape)\n",
    "    for i in range(m):\n",
    "        Y_sampled[i,:] = Y[i, :] + stats.multivariate_normal.rvs(cov=sigma_Y[i])\n",
    "    return X_sampled, Y_sampled"
   ]
  },
  {
   "cell_type": "code",
   "execution_count": 4,
   "metadata": {},
   "outputs": [],
   "source": [
    "def mc_iter(n, m, p, q, tilde, i=1):\n",
    "    X_graph = er_np(n, p*p)\n",
    "    ase = AdjacencySpectralEmbed(n_components=1)\n",
    "    X = ase.fit_transform(X_graph)\n",
    "\n",
    "    Y_graph = er_np(m, q*q)\n",
    "    ase = AdjacencySpectralEmbed(n_components=1)\n",
    "    Y = ase.fit_transform(Y_graph)\n",
    "\n",
    "    if tilde:\n",
    "        X_new, Y_new = sample_noisy_points(X, Y)\n",
    "    else:\n",
    "        X_new, Y_new = X, Y\n",
    "\n",
    "    ldt = LatentDistributionTest()\n",
    "    pval = ldt.fit(X_new, Y_new, pass_graph=False)\n",
    "    return pval\n",
    "\n",
    "def mc_iter_wrapper(i, n, m, p, q, tilde):\n",
    "    np.random.seed(n*100000+m*100+i)\n",
    "    return i, mc_iter(n, m, p, q, tilde, i)\n",
    "\n",
    "def monte_carlo(n, m, p, q, tilde=False, mc_iters=200):\n",
    "    '''\n",
    "    n: size of the first graph\n",
    "    m: size of the second graph\n",
    "    p: latent position of the first graph\n",
    "    q: latent poisiton of the second graph\n",
    "    tilde: if true - use modified non-par, else non-modified\n",
    "    mc_iters: number of monte-carlo-iterations\n",
    "    '''\n",
    "    pool = Pool(cpu_count() - 2)\n",
    "    pvals = np.zeros(mc_iters)\n",
    "    \n",
    "    pbar = tqdm(total=mc_iters)\n",
    "    def update(tup):\n",
    "        i, ans = tup\n",
    "        pvals[i] = ans\n",
    "        pbar.update()\n",
    "    \n",
    "    results = [None] * mc_iters\n",
    "    for i in range(mc_iters):\n",
    "        results[i] = pool.apply_async(mc_iter_wrapper,\n",
    "                         args = (i, n, m, p, q, tilde),\n",
    "                         callback=update)\n",
    "    for r in results:\n",
    "        r.get()\n",
    "        \n",
    "    pool.close()\n",
    "    pool.join()\n",
    "    pbar.close()\n",
    "\n",
    "    return np.array(pvals) < 0.05"
   ]
  },
  {
   "cell_type": "code",
   "execution_count": 5,
   "metadata": {},
   "outputs": [],
   "source": [
    "mc_iters = 500\n",
    "ns = [25, 50, 100, 200, 400, 600, 800]\n",
    "cs = [1, 2, 5, 7, 10, 15]\n",
    "p=0.8 # latent position"
   ]
  },
  {
   "cell_type": "code",
   "execution_count": 6,
   "metadata": {
    "scrolled": false
   },
   "outputs": [
    {
     "name": "stdout",
     "output_type": "stream",
     "text": [
      "2019-11-14 11:26:32.414293 current c: 5\n",
      "2019-11-14 11:26:32.414487 unmodified non-par\n"
     ]
    },
    {
     "name": "stderr",
     "output_type": "stream",
     "text": [
      "100%|██████████| 42/42 [00:01<00:00, 24.19it/s]\n",
      "100%|██████████| 42/42 [00:05<00:00,  8.36it/s]\n",
      "100%|██████████| 42/42 [00:21<00:00,  1.92it/s]\n",
      "100%|██████████| 42/42 [01:38<00:00,  1.08it/s]\n",
      "100%|██████████| 42/42 [07:20<00:00,  3.98s/it]"
     ]
    },
    {
     "name": "stdout",
     "output_type": "stream",
     "text": [
      "2019-11-14 11:35:59.971036 modified non-par\n"
     ]
    },
    {
     "name": "stderr",
     "output_type": "stream",
     "text": [
      "\n",
      "100%|██████████| 42/42 [00:02<00:00, 18.84it/s]\n",
      "100%|██████████| 42/42 [00:05<00:00,  7.35it/s]\n",
      "100%|██████████| 42/42 [00:24<00:00,  1.75it/s]\n",
      "100%|██████████| 42/42 [01:41<00:00,  2.41s/it]\n",
      "100%|██████████| 42/42 [12:30<00:00, 17.86s/it]"
     ]
    },
    {
     "name": "stdout",
     "output_type": "stream",
     "text": [
      "2019-11-14 11:50:43.506495 current c: 8\n",
      "2019-11-14 11:50:43.506714 unmodified non-par\n"
     ]
    },
    {
     "name": "stderr",
     "output_type": "stream",
     "text": [
      "\n",
      "100%|██████████| 42/42 [00:03<00:00, 13.68it/s]\n",
      "100%|██████████| 42/42 [00:14<00:00,  2.92it/s]\n",
      "100%|██████████| 42/42 [00:54<00:00,  1.31s/it]\n",
      "100%|██████████| 42/42 [04:12<00:00,  3.29s/it]\n",
      "100%|██████████| 42/42 [35:24<00:00, 15.72s/it]   "
     ]
    },
    {
     "name": "stdout",
     "output_type": "stream",
     "text": [
      "2019-11-14 12:31:34.047279 modified non-par\n"
     ]
    },
    {
     "name": "stderr",
     "output_type": "stream",
     "text": [
      "\n",
      "100%|██████████| 42/42 [00:03<00:00,  9.49it/s]\n",
      "100%|██████████| 42/42 [00:13<00:00,  3.04it/s]\n",
      "100%|██████████| 42/42 [00:59<00:00,  1.02s/it]\n",
      "100%|██████████| 42/42 [45:22<00:00, 64.83s/it] \n",
      "100%|██████████| 42/42 [15:46<00:00, 11.64s/it]  \n"
     ]
    }
   ],
   "source": [
    "data = {}\n",
    "for c in cs:\n",
    "    print(str(datetime.datetime.now()) + ' current c: {}'.format(c))\n",
    "    print(str(datetime.datetime.now()) + ' unmodified non-par')\n",
    "    tests_size_er_xhat = [monte_carlo(n=i, m=c*i, p=p, q=p,\n",
    "                                      mc_iters=mc_iters, tilde=False)\n",
    "                          for i in ns]\n",
    "    size_er_xhat = np.array([np.sum(i)/mc_iters for i in tests_size_er_xhat])\n",
    "    print(str(datetime.datetime.now()) + ' modified non-par')\n",
    "    tests_size_er_xtilde = [monte_carlo(n=i, m=c*i, p=p, q=p,\n",
    "                                        mc_iters=mc_iters, tilde=True)\n",
    "                            for i in ns]\n",
    "    size_er_xtilde = np.array([np.sum(i)/mc_iters for i in tests_size_er_xtilde])\n",
    "    data[c] = (size_er_xhat, size_er_xtilde)\n",
    "    pkl.dump(data, open( \"graphs_size.pkl\", \"wb\" ) )"
   ]
  },
  {
   "cell_type": "code",
   "execution_count": 7,
   "metadata": {},
   "outputs": [
    {
     "data": {
      "text/plain": [
       "<matplotlib.legend.Legend at 0x1a19162d68>"
      ]
     },
     "execution_count": 7,
     "metadata": {},
     "output_type": "execute_result"
    },
    {
     "data": {
      "image/png": "[encoded data removed]",
      "text/plain": [
       "<Figure size 864x576 with 1 Axes>"
      ]
     },
     "metadata": {
      "needs_background": "light"
     },
     "output_type": "display_data"
    }
   ],
   "source": [
    "fig01, ax01 = plt.subplots(1, 1, figsize=(12,8))\n",
    "for c in cs:\n",
    "    ax01.errorbar(x = ns, y=data[c][1],\n",
    "                  yerr=np.sqrt(data[c][1]*(1-data[c][1])/mc_iters),\n",
    "                  label='xtilde (modified), c={}'.format(c))\n",
    "ax01.plot(ns, np.ones(len(ns)) * 0.05, 'k--', label='0.05')\n",
    "ax01.set_title(\"size of the modified nonparametric test for various n \\n\"+\n",
    "               \"Graphs: ER(n, p), N(m, p); m=cn\")\n",
    "ax01.set_xlabel(\"n\")\n",
    "ax01.set_ylabel(\"size of the test\")\n",
    "ax01.set_ylim([-0.05, 1.05])\n",
    "ax01.set_xticks(ns)\n",
    "ax01.legend(bbox_to_anchor=(1.04,1), loc=\"upper left\")"
   ]
  },
  {
   "cell_type": "code",
   "execution_count": 22,
   "metadata": {},
   "outputs": [
    {
     "data": {
      "image/png": "[encoded data removed]",
      "text/plain": [
       "<Figure size 864x576 with 1 Axes>"
      ]
     },
     "metadata": {
      "needs_background": "light"
     },
     "output_type": "display_data"
    }
   ],
   "source": [
    "fig02, ax02 = plt.subplots(1, 1, figsize=(12,8))\n",
    "for c in cs:\n",
    "    ax02.errorbar(x = ns, y=data[c][0],\n",
    "                  yerr=1.96*np.sqrt(data[c][0]*(1-data[c][0])/mc_iters),\n",
    "                  label='xhat (unmodified), c={}'.format(c))\n",
    "ax02.plot(ns, np.ones(len(ns)) * 0.05, 'k--', label='0.05')\n",
    "ax02.set_title(\"size of the unmodified nonparametric test for various n \\n\"+\n",
    "               \"Graphs: ER(n, p), N(m, p); m=cn\")\n",
    "ax02.set_xlabel(\"n\")\n",
    "ax02.set_ylabel(\"size of the test\")\n",
    "ax02.set_ylim([-0.05, 1.05])\n",
    "ax02.set_xticks(ns)\n",
    "ax02.legend(bbox_to_anchor=(1.04,1), loc=\"upper left\");"
   ]
  },
  {
   "cell_type": "code",
   "execution_count": null,
   "metadata": {},
   "outputs": [],
   "source": []
  }
 ],
 "metadata": {
  "kernelspec": {
   "display_name": "Python 3",
   "language": "python",
   "name": "python3"
  },
  "language_info": {
   "codemirror_mode": {
    "name": "ipython",
    "version": 3
   },
   "file_extension": ".py",
   "mimetype": "text/x-python",
   "name": "python",
   "nbconvert_exporter": "python",
   "pygments_lexer": "ipython3",
   "version": "3.6.7"
  }
 },
 "nbformat": 4,
 "nbformat_minor": 2
}
