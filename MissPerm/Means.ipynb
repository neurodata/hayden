{
 "cells": [
  {
   "cell_type": "markdown",
   "metadata": {},
   "source": [
    "In this notebook i investigate the effect of model misspecification on the validity (and power) of the permutation test. In particular, i plan to show that the permutation test false positive rate is below $ \\alpha $ in certain, relevant settings.\n",
    "\n",
    "First consider two sets of observations, $ \\mathbf{X} = \\{X_{1}, ..., X_{n}\\} $ and $ \\mathbf{Y} = \\{Y_{1}, ..., Y_{m}\\} $ with $ X_{i} \\stackrel{\\sim}{iid} F_{X} $ and $ Y_{j} \\stackrel{\\sim"
   ]
  }
 ],
 "metadata": {
  "kernelspec": {
   "display_name": "Python 3",
   "language": "python",
   "name": "python3"
  },
  "language_info": {
   "codemirror_mode": {
    "name": "ipython",
    "version": 3
   },
   "file_extension": ".py",
   "mimetype": "text/x-python",
   "name": "python",
   "nbconvert_exporter": "python",
   "pygments_lexer": "ipython3",
   "version": "3.6.8"
  }
 },
 "nbformat": 4,
 "nbformat_minor": 2
}
