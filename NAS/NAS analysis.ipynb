{
 "cells": [
  {
   "cell_type": "code",
   "execution_count": 1,
   "metadata": {},
   "outputs": [],
   "source": [
    "import numpy as np\n",
    "import matplotlib.pyplot as plt\n",
    "import pandas as pd\n",
    "\n",
    "from graspy.embed import AdjacencySpectralEmbed\n",
    "from graspy.plot import pairplot\n",
    "from graspy.embed import OutOfSampleAdjacencySpectralEmbed as OOSASE\n",
    "import graspy\n",
    "\n",
    "import networkx as nx\n",
    "\n",
    "import _pickle as pkl\n",
    "# Need OOS"
   ]
  },
  {
   "cell_type": "code",
   "execution_count": 3,
   "metadata": {
    "scrolled": true
   },
   "outputs": [
    {
     "name": "stdout",
     "output_type": "stream",
     "text": [
      "                               hash  mean_final_validation_accuracy  \\\n",
      "0  00005c142e6f48ac74fdcf73e3439874                        0.926416   \n",
      "1  0000718c96730a92ea6d5242f8ce77e2                        0.894631   \n",
      "2  0000cb5372fad9d62c470df699ac6d52                        0.927350   \n",
      "3  0000fa05697179112aaf69c2f0a51a0f                        0.909756   \n",
      "4  00010e19334eb9dcbe1fe61a98d524c2                        0.897169   \n",
      "\n",
      "   mean_final_training_time  \n",
      "0               1768.784953  \n",
      "1               1206.150024  \n",
      "2               1343.049967  \n",
      "3               1302.710978  \n",
      "4               1251.861003  \n",
      "                                  0                                 1\n",
      "0  00005c142e6f48ac74fdcf73e3439874  09fbbe5d0e151746fee03a1e35c652eb\n",
      "1  00005c142e6f48ac74fdcf73e3439874  3c13829b7c2e926ae84e149eb51ed37a\n",
      "2  00005c142e6f48ac74fdcf73e3439874  636c82bf88337fda92e8a6d312b8ae91\n",
      "3  00005c142e6f48ac74fdcf73e3439874  65da9c92894ce3c57c1d9edde81a72a6\n",
      "4  00005c142e6f48ac74fdcf73e3439874  6d0dc33b1467b57d49205a3ad96292a8\n",
      "largest connected component:358506\n",
      "in sample size:46398\n"
     ]
    }
   ],
   "source": [
    "np.random.seed(1)\n",
    "reload_data = False\n",
    "\n",
    "if reload_data:\n",
    "    nodes = pd.read_csv('nodes', delimiter='\\t')\n",
    "    print(nodes.head())\n",
    "\n",
    "    edges = pd.read_csv('edges', delimiter='\\t',header=None)\n",
    "    print(edges.head())\n",
    "\n",
    "    G = nx.from_pandas_edgelist(edges, source=0, target=1)\n",
    "    lcc = max(nx.connected_components(G), key=len)\n",
    "    G_lcc = G.subgraph(lcc).copy()\n",
    "    pkl.dump(G_lcc, open('nas_graph.pkl', 'wb'))\n",
    "    \n",
    "    N = len(G_lcc)\n",
    "    in_sample_prop = 0.2\n",
    "\n",
    "    nodes = pd.read_csv('nodes', delimiter='\\t')['hash']\n",
    "\n",
    "    in_sample_id = np.random.choice(nodes, int(N*0.2))\n",
    "\n",
    "    temp_G = G_lcc.subgraph(in_sample_id).copy()\n",
    "    lcc = max(nx.connected_components(temp_G))\n",
    "\n",
    "    in_sample_G = temp_G.subgraph(lcc).copy()\n",
    "\n",
    "    pkl.dump(in_sample_G, open('in_sample_G.pkl', 'wb'))\n",
    "else:\n",
    "    G_lcc = pkl.load(open('nas_graph.pkl', 'rb'))\n",
    "    in_sample_G = pkl.load(open('in_sample_G.pkl', 'rb'))\n",
    "    \n",
    "print('largest connected component:' + str(len(G_lcc)))\n",
    "print('in sample size:' + str(len(in_sample_G)))"
   ]
  },
  {
   "cell_type": "code",
   "execution_count": 3,
   "metadata": {},
   "outputs": [],
   "source": [
    "\n",
    "\n",
    "\n",
    "\n",
    "N = len(G_lcc)\n",
    "in_sample_prop = 0.2\n",
    "\n",
    "nodes = pd.read_csv('nodes', delimiter='\\t')['hash']\n",
    "\n",
    "in_sample_id = np.random.choice(nodes, int(N*0.2))\n",
    "\n",
    "temp_G = G_lcc.subgraph(in_sample_id).copy()\n",
    "lcc = max(nx.connected_components(temp_G))\n",
    "\n",
    "in_sample_G = temp_G.subgraph(lcc).copy()\n",
    "\n",
    "pkl.dump(in_sample_G, open('in_sample_G', 'wb'))"
   ]
  },
  {
   "cell_type": "code",
   "execution_count": 4,
   "metadata": {},
   "outputs": [
    {
     "data": {
      "text/plain": [
       "46759"
      ]
     },
     "execution_count": 4,
     "metadata": {},
     "output_type": "execute_result"
    }
   ],
   "source": [
    "len(in_sample_G)"
   ]
  },
  {
   "cell_type": "code",
   "execution_count": 5,
   "metadata": {
    "scrolled": true
   },
   "outputs": [
    {
     "name": "stdout",
     "output_type": "stream",
     "text": [
      "begin svd\n"
     ]
    },
    {
     "name": "stderr",
     "output_type": "stream",
     "text": [
      "ERROR:root:Internal Python error in the inspect module.\n",
      "Below is the traceback from this internal error.\n",
      "\n"
     ]
    },
    {
     "name": "stdout",
     "output_type": "stream",
     "text": [
      "Traceback (most recent call last):\n",
      "  File \"/mnt/c/Users/hhelm/virtualenvs/hh/lib/python3.6/site-packages/IPython/core/interactiveshell.py\", line 3296, in run_code\n",
      "    exec(code_obj, self.user_global_ns, self.user_ns)\n",
      "  File \"<ipython-input-5-c7cec997fbb6>\", line 2, in <module>\n",
      "    oos_ase.fit(in_sample_G)\n",
      "  File \"/mnt/c/Users/hhelm/Desktop/NeuroData/graspy/graspy/embed/oosase.py\", line 208, in fit\n",
      "    self._reduce_dim(in_sample_A)\n",
      "  File \"/mnt/c/Users/hhelm/Desktop/NeuroData/graspy/graspy/embed/base.py\", line 90, in _reduce_dim\n",
      "    n_iter=self.n_iter,\n",
      "  File \"/mnt/c/Users/hhelm/Desktop/NeuroData/graspy/graspy/embed/svd.py\", line 235, in selectSVD\n",
      "    elbows, _ = select_dimension(X, n_elbows=n_elbows, threshold=None)\n",
      "  File \"/mnt/c/Users/hhelm/Desktop/NeuroData/graspy/graspy/embed/svd.py\", line 143, in select_dimension\n",
      "    D = scipy.sparse.linalg.svds(A=X, k=k, return_singular_vectors=False)\n",
      "  File \"/mnt/c/Users/hhelm/virtualenvs/hh/lib/python3.6/site-packages/scipy/sparse/linalg/eigen/arpack/arpack.py\", line 1826, in svds\n",
      "    ncv=ncv, which=which, v0=v0)\n",
      "  File \"/mnt/c/Users/hhelm/virtualenvs/hh/lib/python3.6/site-packages/scipy/sparse/linalg/eigen/arpack/arpack.py\", line 1667, in eigsh\n",
      "    params.iterate()\n",
      "  File \"/mnt/c/Users/hhelm/virtualenvs/hh/lib/python3.6/site-packages/scipy/sparse/linalg/eigen/arpack/arpack.py\", line 548, in iterate\n",
      "    self.workd[yslice] = self.OP(self.workd[xslice])\n",
      "  File \"/mnt/c/Users/hhelm/virtualenvs/hh/lib/python3.6/site-packages/scipy/sparse/linalg/interface.py\", line 222, in matvec\n",
      "    y = self._matvec(x)\n",
      "  File \"/mnt/c/Users/hhelm/virtualenvs/hh/lib/python3.6/site-packages/scipy/sparse/linalg/interface.py\", line 474, in _matvec\n",
      "    return self.__matvec_impl(x)\n",
      "  File \"/mnt/c/Users/hhelm/virtualenvs/hh/lib/python3.6/site-packages/scipy/sparse/linalg/eigen/arpack/arpack.py\", line 1818, in matvec_XH_X\n",
      "    return XH_dot(X_dot(x))\n",
      "KeyboardInterrupt\n",
      "\n",
      "During handling of the above exception, another exception occurred:\n",
      "\n",
      "Traceback (most recent call last):\n",
      "  File \"/mnt/c/Users/hhelm/virtualenvs/hh/lib/python3.6/site-packages/IPython/core/interactiveshell.py\", line 2033, in showtraceback\n",
      "    stb = value._render_traceback_()\n",
      "AttributeError: 'KeyboardInterrupt' object has no attribute '_render_traceback_'\n",
      "\n",
      "During handling of the above exception, another exception occurred:\n",
      "\n",
      "Traceback (most recent call last):\n",
      "  File \"/mnt/c/Users/hhelm/virtualenvs/hh/lib/python3.6/site-packages/IPython/core/ultratb.py\", line 1095, in get_records\n",
      "    return _fixed_getinnerframes(etb, number_of_lines_of_context, tb_offset)\n",
      "  File \"/mnt/c/Users/hhelm/virtualenvs/hh/lib/python3.6/site-packages/IPython/core/ultratb.py\", line 313, in wrapped\n",
      "    return f(*args, **kwargs)\n",
      "  File \"/mnt/c/Users/hhelm/virtualenvs/hh/lib/python3.6/site-packages/IPython/core/ultratb.py\", line 347, in _fixed_getinnerframes\n",
      "    records = fix_frame_records_filenames(inspect.getinnerframes(etb, context))\n",
      "  File \"/usr/lib/python3.6/inspect.py\", line 1488, in getinnerframes\n",
      "    frameinfo = (tb.tb_frame,) + getframeinfo(tb, context)\n",
      "  File \"/usr/lib/python3.6/inspect.py\", line 1450, in getframeinfo\n",
      "    lines, lnum = findsource(frame)\n",
      "  File \"/mnt/c/Users/hhelm/virtualenvs/hh/lib/python3.6/site-packages/IPython/core/ultratb.py\", line 179, in findsource\n",
      "    lines = linecache.getlines(file, globals_dict)\n",
      "  File \"/mnt/c/Users/hhelm/virtualenvs/hh/lib/python3.6/linecache.py\", line 47, in getlines\n",
      "    return updatecache(filename, module_globals)\n",
      "  File \"/mnt/c/Users/hhelm/virtualenvs/hh/lib/python3.6/linecache.py\", line 136, in updatecache\n",
      "    with tokenize.open(fullname) as fp:\n",
      "  File \"/mnt/c/Users/hhelm/virtualenvs/hh/lib/python3.6/tokenize.py\", line 452, in open\n",
      "    buffer = _builtin_open(filename, 'rb')\n",
      "KeyboardInterrupt\n"
     ]
    },
    {
     "ename": "KeyboardInterrupt",
     "evalue": "",
     "output_type": "error",
     "traceback": [
      "\u001b[0;31m---------------------------------------------------------------------------\u001b[0m"
     ]
    }
   ],
   "source": [
    "oos_ase = OOSASE(in_sample_proportion=1, connected_attempts=100, check_lcc=False)\n",
    "oos_ase.fit(in_sample_G)"
   ]
  },
  {
   "cell_type": "code",
   "execution_count": null,
   "metadata": {},
   "outputs": [],
   "source": [
    "in_sample_id = np.random.choice(nodes, int(N*0.2))"
   ]
  },
  {
   "cell_type": "code",
   "execution_count": null,
   "metadata": {},
   "outputs": [],
   "source": [
    "from graspy.utils import is_fully_connected\n",
    "is_fully_connected(G_lcc)"
   ]
  },
  {
   "cell_type": "code",
   "execution_count": 13,
   "metadata": {},
   "outputs": [
    {
     "data": {
      "text/plain": [
       "[('09fbbe5d0e151746fee03a1e35c652eb', '00005c142e6f48ac74fdcf73e3439874'),\n",
       " ('09fbbe5d0e151746fee03a1e35c652eb', '316b39c0cfe5c93b7aa9e7bf28964372'),\n",
       " ('09fbbe5d0e151746fee03a1e35c652eb', '3c13829b7c2e926ae84e149eb51ed37a'),\n",
       " ('09fbbe5d0e151746fee03a1e35c652eb', '88ce8989ee0b3e71eb2f907fc5134465'),\n",
       " ('09fbbe5d0e151746fee03a1e35c652eb', 'a695ff736aa0cf94f92cacb315bf1fbd'),\n",
       " ('09fbbe5d0e151746fee03a1e35c652eb', 'c0b8db92277097333fb14c2c1e9583fd'),\n",
       " ('09fbbe5d0e151746fee03a1e35c652eb', 'c5a1ed0921a7bdeb92096368b08ce0a9'),\n",
       " ('09fbbe5d0e151746fee03a1e35c652eb', 'c768d47a3c80186120c503992b43fc9a'),\n",
       " ('09fbbe5d0e151746fee03a1e35c652eb', 'ca7cf8474d1691fdff731acab7b5be2f'),\n",
       " ('09fbbe5d0e151746fee03a1e35c652eb', 'cd55cd77ca7f85b5b6ef6dec4671781e'),\n",
       " ('09fbbe5d0e151746fee03a1e35c652eb', 'd3f5a49e76d22313d88b37105ed9408c'),\n",
       " ('09fbbe5d0e151746fee03a1e35c652eb', 'dcc19295b09da40d8e9a88b3a55d0875')]"
      ]
     },
     "execution_count": 13,
     "metadata": {},
     "output_type": "execute_result"
    }
   ],
   "source": [
    "list(G_lcc.edges(['09fbbe5d0e151746fee03a1e35c652eb']))"
   ]
  },
  {
   "cell_type": "code",
   "execution_count": 17,
   "metadata": {},
   "outputs": [],
   "source": [
    "G_lcc.get_edge_data('09fbbe5d0e151746fee03a1e35c652eb', '00005c142e6f48ac74fdcf73e343984')"
   ]
  }
 ],
 "metadata": {
  "kernelspec": {
   "display_name": "hh",
   "language": "python",
   "name": "hh"
  }
 },
 "nbformat": 4,
 "nbformat_minor": 2
}
