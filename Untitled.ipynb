{
 "cells": [
  {
   "cell_type": "markdown",
   "metadata": {},
   "source": [
    "# NeuroData Workshop 2019\n",
    "\n",
    "The weeklong workshop to be held held Aug 19-23 has three main objectives -- sharing the theory and intuition behind a myriad of powerful methods we have developed over the past ten years, showcasing the applicability of these methods on relevant problems and datasets, and helping our collaborators and community use these methods for their own work. Each day we will focus on a cohesive collection of tools with the three main objectives in mind.\n",
    "\n",
    "The weekly schedule is the following:\n",
    "\n",
    "| Monday 8/19 | Tuesday 8/20 | Wednesday 8/21 | Thursday 8/22 | Friday 8/23 |\n",
    "|---|---|---|---|---|\n",
    "| High dimensional hypothesis testing  | Decision forests | Statistical Inference on Graphs | Nonlinear Registration | {d/f}MRI connectome estimtation |\n",
    "| https://neurodata.io/mgc/ | https://neurodata.io/rerf/ | https://neurodata.io/graspy/ | https://neurodata.io/ndreg/ | https://neurodata.io/ndmg/ |\n",
    "\n",
    "With each day being:\n",
    "\n",
    "| Time | Event |\n",
    "|---|:---:|\n",
    "| 9:00am | Breakfast |\n",
    "| 10:00am | Theory and methodology overview |\n",
    "| 11:00am | Demo and tutorial on relevant code base |\n",
    "| 12:00pm | Lunch |\n",
    "| 1:00-5:00pm | Hacking and problem solving (with snacks!!) |\n",
    "| 6:30pm | Dinner |\n",
    "| 8:00pm | Fun stuff |\n",
    "\n",
    "Please contact support@neurodata.io with questions and RSVPs :-)\n",
    "\n"
   ]
  }
 ],
 "metadata": {
  "kernelspec": {
   "display_name": "hh",
   "language": "python",
   "name": "hh"
  },
  "language_info": {
   "codemirror_mode": {
    "name": "ipython",
    "version": 3
   },
   "file_extension": ".py",
   "mimetype": "text/x-python",
   "name": "python",
   "nbconvert_exporter": "python",
   "pygments_lexer": "ipython3",
   "version": "3.6.7"
  }
 },
 "nbformat": 4,
 "nbformat_minor": 2
}
