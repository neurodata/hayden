{
 "cells": [
  {
   "cell_type": "code",
   "execution_count": 1,
   "metadata": {},
   "outputs": [
    {
     "ename": "ImportError",
     "evalue": "Something is wrong with the numpy installation. While importing we detected an older version of numpy in ['/mnt/c/Users/hhelm/.local/lib/python3.6/site-packages/numpy']. One method of fixing this is to repeatedly uninstall numpy until none is found, then reinstall this version.",
     "output_type": "error",
     "traceback": [
      "\u001b[0;31m---------------------------------------------------------------------------\u001b[0m",
      "\u001b[0;31mImportError\u001b[0m                               Traceback (most recent call last)",
      "\u001b[0;32m<ipython-input-1-459445efaf7e>\u001b[0m in \u001b[0;36m<module>\u001b[0;34m\u001b[0m\n\u001b[1;32m      1\u001b[0m \u001b[0;32mimport\u001b[0m \u001b[0mnetworkx\u001b[0m \u001b[0;32mas\u001b[0m \u001b[0mnx\u001b[0m\u001b[0;34m\u001b[0m\u001b[0;34m\u001b[0m\u001b[0m\n\u001b[0;32m----> 2\u001b[0;31m \u001b[0;32mimport\u001b[0m \u001b[0mmatplotlib\u001b[0m\u001b[0;34m.\u001b[0m\u001b[0mpyplot\u001b[0m \u001b[0;32mas\u001b[0m \u001b[0mplt\u001b[0m\u001b[0;34m\u001b[0m\u001b[0;34m\u001b[0m\u001b[0m\n\u001b[0m\u001b[1;32m      3\u001b[0m \u001b[0;32mimport\u001b[0m \u001b[0mscipy\u001b[0m \u001b[0;32mas\u001b[0m \u001b[0msp\u001b[0m\u001b[0;34m\u001b[0m\u001b[0;34m\u001b[0m\u001b[0m\n\u001b[1;32m      4\u001b[0m \u001b[0;32mimport\u001b[0m \u001b[0mnumpy\u001b[0m \u001b[0;32mas\u001b[0m \u001b[0mnp\u001b[0m\u001b[0;34m\u001b[0m\u001b[0;34m\u001b[0m\u001b[0m\n\u001b[1;32m      5\u001b[0m \u001b[0;32mimport\u001b[0m \u001b[0mrandom\u001b[0m \u001b[0;32mas\u001b[0m \u001b[0mra\u001b[0m\u001b[0;34m\u001b[0m\u001b[0;34m\u001b[0m\u001b[0m\n",
      "\u001b[0;32m~/.local/lib/python3.6/site-packages/matplotlib/__init__.py\u001b[0m in \u001b[0;36m<module>\u001b[0;34m\u001b[0m\n\u001b[1;32m    139\u001b[0m \u001b[0;31m# cbook must import matplotlib only within function\u001b[0m\u001b[0;34m\u001b[0m\u001b[0;34m\u001b[0m\u001b[0;34m\u001b[0m\u001b[0m\n\u001b[1;32m    140\u001b[0m \u001b[0;31m# definitions, so it is safe to import from it here.\u001b[0m\u001b[0;34m\u001b[0m\u001b[0;34m\u001b[0m\u001b[0;34m\u001b[0m\u001b[0m\n\u001b[0;32m--> 141\u001b[0;31m \u001b[0;32mfrom\u001b[0m \u001b[0;34m.\u001b[0m \u001b[0;32mimport\u001b[0m \u001b[0mcbook\u001b[0m\u001b[0;34m,\u001b[0m \u001b[0mrcsetup\u001b[0m\u001b[0;34m\u001b[0m\u001b[0;34m\u001b[0m\u001b[0m\n\u001b[0m\u001b[1;32m    142\u001b[0m from matplotlib.cbook import (\n\u001b[1;32m    143\u001b[0m     MatplotlibDeprecationWarning, dedent, get_label, sanitize_sequence)\n",
      "\u001b[0;32m~/.local/lib/python3.6/site-packages/matplotlib/cbook/__init__.py\u001b[0m in \u001b[0;36m<module>\u001b[0;34m\u001b[0m\n\u001b[1;32m     31\u001b[0m \u001b[0;32mfrom\u001b[0m \u001b[0mweakref\u001b[0m \u001b[0;32mimport\u001b[0m \u001b[0mWeakMethod\u001b[0m\u001b[0;34m\u001b[0m\u001b[0;34m\u001b[0m\u001b[0m\n\u001b[1;32m     32\u001b[0m \u001b[0;34m\u001b[0m\u001b[0m\n\u001b[0;32m---> 33\u001b[0;31m \u001b[0;32mimport\u001b[0m \u001b[0mnumpy\u001b[0m \u001b[0;32mas\u001b[0m \u001b[0mnp\u001b[0m\u001b[0;34m\u001b[0m\u001b[0;34m\u001b[0m\u001b[0m\n\u001b[0m\u001b[1;32m     34\u001b[0m \u001b[0;34m\u001b[0m\u001b[0m\n\u001b[1;32m     35\u001b[0m \u001b[0;32mimport\u001b[0m \u001b[0mmatplotlib\u001b[0m\u001b[0;34m\u001b[0m\u001b[0;34m\u001b[0m\u001b[0m\n",
      "\u001b[0;32m~/.local/lib/python3.6/site-packages/numpy/__init__.py\u001b[0m in \u001b[0;36m<module>\u001b[0;34m\u001b[0m\n\u001b[1;32m    140\u001b[0m     \u001b[0;32mfrom\u001b[0m \u001b[0;34m.\u001b[0m \u001b[0;32mimport\u001b[0m \u001b[0m_distributor_init\u001b[0m\u001b[0;34m\u001b[0m\u001b[0;34m\u001b[0m\u001b[0m\n\u001b[1;32m    141\u001b[0m \u001b[0;34m\u001b[0m\u001b[0m\n\u001b[0;32m--> 142\u001b[0;31m     \u001b[0;32mfrom\u001b[0m \u001b[0;34m.\u001b[0m \u001b[0;32mimport\u001b[0m \u001b[0mcore\u001b[0m\u001b[0;34m\u001b[0m\u001b[0;34m\u001b[0m\u001b[0m\n\u001b[0m\u001b[1;32m    143\u001b[0m     \u001b[0;32mfrom\u001b[0m \u001b[0;34m.\u001b[0m\u001b[0mcore\u001b[0m \u001b[0;32mimport\u001b[0m \u001b[0;34m*\u001b[0m\u001b[0;34m\u001b[0m\u001b[0;34m\u001b[0m\u001b[0m\n\u001b[1;32m    144\u001b[0m     \u001b[0;32mfrom\u001b[0m \u001b[0;34m.\u001b[0m \u001b[0;32mimport\u001b[0m \u001b[0mcompat\u001b[0m\u001b[0;34m\u001b[0m\u001b[0;34m\u001b[0m\u001b[0m\n",
      "\u001b[0;32m~/.local/lib/python3.6/site-packages/numpy/core/__init__.py\u001b[0m in \u001b[0;36m<module>\u001b[0;34m\u001b[0m\n\u001b[1;32m     89\u001b[0m         \u001b[0;34m\"numpy in {}. One method of fixing this is to repeatedly uninstall \"\u001b[0m\u001b[0;34m\u001b[0m\u001b[0;34m\u001b[0m\u001b[0m\n\u001b[1;32m     90\u001b[0m         \"numpy until none is found, then reinstall this version.\")\n\u001b[0;32m---> 91\u001b[0;31m     \u001b[0;32mraise\u001b[0m \u001b[0mImportError\u001b[0m\u001b[0;34m(\u001b[0m\u001b[0mmsg\u001b[0m\u001b[0;34m.\u001b[0m\u001b[0mformat\u001b[0m\u001b[0;34m(\u001b[0m\u001b[0mpath\u001b[0m\u001b[0;34m)\u001b[0m\u001b[0;34m)\u001b[0m\u001b[0;34m\u001b[0m\u001b[0;34m\u001b[0m\u001b[0m\n\u001b[0m\u001b[1;32m     92\u001b[0m \u001b[0;34m\u001b[0m\u001b[0m\n\u001b[1;32m     93\u001b[0m \u001b[0;32mfrom\u001b[0m \u001b[0;34m.\u001b[0m \u001b[0;32mimport\u001b[0m \u001b[0mnumerictypes\u001b[0m \u001b[0;32mas\u001b[0m \u001b[0mnt\u001b[0m\u001b[0;34m\u001b[0m\u001b[0;34m\u001b[0m\u001b[0m\n",
      "\u001b[0;31mImportError\u001b[0m: Something is wrong with the numpy installation. While importing we detected an older version of numpy in ['/mnt/c/Users/hhelm/.local/lib/python3.6/site-packages/numpy']. One method of fixing this is to repeatedly uninstall numpy until none is found, then reinstall this version."
     ]
    }
   ],
   "source": [
    "import networkx as nx \n",
    "import matplotlib.pyplot as plt\n",
    "import scipy as sp\n",
    "import numpy as np\n",
    "import random as ra\n",
    "import time\n",
    "import pickle\n",
    "from sklearn.cluster import spectral_clustering as spclustering\n",
    "from sklearn.cluster import SpectralClustering\n",
    "from sklearn.cluster import AgglomerativeClustering\n",
    "from sklearn.metrics import adjusted_rand_score\n",
    "from sklearn.metrics import pairwise_distances\n",
    "from sklearn.cluster import KMeans\n",
    "from sklearn.cluster import DBSCAN\n",
    "import matplotlib\n",
    "\n",
    "import sys,os\n",
    "\n",
    "try:\n",
    "    from localgraphclustering import *\n",
    "except:\n",
    "    # when the package is not installed, import the local version instead. \n",
    "    # the notebook must be placed in the original \"notebooks/\" folder\n",
    "    sys.path.append(\"../\")\n",
    "    from localgraphclustering import *"
   ]
  },
  {
   "cell_type": "code",
   "execution_count": null,
   "metadata": {},
   "outputs": [],
   "source": []
  },
  {
   "cell_type": "code",
   "execution_count": null,
   "metadata": {},
   "outputs": [],
   "source": [
    "# sizes of large clusters\n",
    "K = 100\n",
    "\n",
    "# number of clusters and nodes\n",
    "list_number_of_clusters = [500]\n",
    "list_number_of_nodes = [10]\n",
    "\n",
    "# random seed number\n",
    "random_seed = 20"
   ]
  },
  {
   "cell_type": "markdown",
   "metadata": {},
   "source": [
    "## Global clustering"
   ]
  },
  {
   "cell_type": "code",
   "execution_count": 5,
   "metadata": {},
   "outputs": [
    {
     "name": "stdout",
     "output_type": "stream",
     "text": [
      "Nodes in cluster:  10\n",
      "Number of clusters:  500  p:  0.5  q:  0.0006  ARI:  0.8549025709482234\n",
      "Time:  102.55535101890564\n"
     ]
    }
   ],
   "source": [
    "start = time.time()\n",
    "\n",
    "for number_of_nodes in list_number_of_nodes:\n",
    "    \n",
    "    print(\"Nodes in cluster: \", number_of_nodes)\n",
    "    \n",
    "    for number_of_clusters in list_number_of_clusters:\n",
    "        \n",
    "        # seed number\n",
    "        seed = random_seed\n",
    "        ra.seed(seed)\n",
    "        np.random.seed(seed)\n",
    "        \n",
    "        # set parameters\n",
    "        number_of_large_clusters = 0\n",
    "        sizes = []\n",
    "        for i in range(number_of_clusters):\n",
    "            if i < number_of_large_clusters:\n",
    "                sizes.append(K)\n",
    "            else:\n",
    "                sizes.append(number_of_nodes)\n",
    "        n = np.sum(sizes)                     \n",
    "        \n",
    "        p = 0.5\n",
    "        q = 3/n\n",
    "        probs = q * np.ones((number_of_clusters, number_of_clusters)) + (p-q) * np.eye(number_of_clusters) \n",
    "        g = nx.generators.community.stochastic_block_model(sizes, probs)\n",
    "        nx.write_edgelist(g, \"sbm.edgelist\",data=False)\n",
    "        g2 = GraphLocal('sbm.edgelist','edgelist',' ') # what is edgelist        \n",
    "\n",
    "        labels = list(spclustering(g2.adjacency_matrix, n_clusters=number_of_clusters, eigen_solver='arpack'))\n",
    "        \n",
    "        labels_true = []\n",
    "        for i in range(number_of_clusters):\n",
    "            for j in range(sizes[i]):\n",
    "                labels_true.append(i)\n",
    "\n",
    "        print(\"Number of clusters: \", number_of_clusters, \" p: \", p, \" q: \", q,\" ARI: \", adjusted_rand_score(labels, labels_true))\n",
    "        \n",
    "        #break\n",
    "    #break\n",
    "end = time.time()\n",
    "print('Time: ', end - start)    "
   ]
  },
  {
   "cell_type": "markdown",
   "metadata": {},
   "source": [
    "## Global + KMeans"
   ]
  },
  {
   "cell_type": "code",
   "execution_count": 8,
   "metadata": {},
   "outputs": [
    {
     "name": "stdout",
     "output_type": "stream",
     "text": [
      "Time:  55.11201596260071\n"
     ]
    }
   ],
   "source": [
    "start = time.time()\n",
    "from sklearn.manifold import spectral_embedding as spembedding\n",
    "sp_emb = spembedding(g2.adjacency_matrix, n_components=number_of_clusters, eigen_solver='arpack', norm_laplacian=True, drop_first=True)\n",
    "end = time.time()\n",
    "print('Time: ', end - start)   "
   ]
  },
  {
   "cell_type": "code",
   "execution_count": null,
   "metadata": {},
   "outputs": [],
   "source": [
    "from sklearn.cluster import KMeans\n",
    "\n",
    "start = time.time()\n",
    "clustering_kmeans = KMeans(n_clusters=number_of_clusters).fit(sp_emb)\n",
    "labels_sp = clustering_kmeans.labels_\n",
    "end = time.time()\n",
    "print('Time: ', end - start)   "
   ]
  },
  {
   "cell_type": "code",
   "execution_count": null,
   "metadata": {},
   "outputs": [],
   "source": [
    "print(\"Number of clusters: \", number_of_clusters, \" p: \", p, \" q: \", q,\" ARI: \", adjusted_rand_score(labels_sp, labels_true))"
   ]
  },
  {
   "cell_type": "markdown",
   "metadata": {},
   "source": [
    "visualization"
   ]
  },
  {
   "cell_type": "code",
   "execution_count": 129,
   "metadata": {},
   "outputs": [],
   "source": [
    "from sklearn.decomposition import PCA\n",
    "pca = PCA(n_components=2)\n",
    "principalComponents = pca.fit_transform(sp_emb)"
   ]
  },
  {
   "cell_type": "code",
   "execution_count": 130,
   "metadata": {},
   "outputs": [
    {
     "data": {
      "text/plain": [
       "<matplotlib.collections.PathCollection at 0x12d8f67b8>"
      ]
     },
     "execution_count": 130,
     "metadata": {},
     "output_type": "execute_result"
    },
    {
     "data": {
      "image/png": "[encoded data removed]",
      "text/plain": [
       "<Figure size 432x288 with 1 Axes>"
      ]
     },
     "metadata": {},
     "output_type": "display_data"
    }
   ],
   "source": [
    "plt.scatter(principalComponents[:50,0], principalComponents[:50,1], c=labels_true[:50])"
   ]
  },
  {
   "cell_type": "markdown",
   "metadata": {},
   "source": [
    "## Node2Vec"
   ]
  },
  {
   "cell_type": "code",
   "execution_count": 213,
   "metadata": {},
   "outputs": [
    {
     "name": "stdout",
     "output_type": "stream",
     "text": [
      "(5000, 501)\n"
     ]
    }
   ],
   "source": [
    "node2vec = np.loadtxt('./datasets/sbm.emb', dtype = 'float',delimiter=' ', skiprows=1)\n",
    "print(node2vec.shape)"
   ]
  },
  {
   "cell_type": "code",
   "execution_count": 214,
   "metadata": {},
   "outputs": [],
   "source": [
    "sorted_idx = np.argsort(node2vec[:,0])\n",
    "node2vec_emb = node2vec[sorted_idx,:][:,1:]"
   ]
  },
  {
   "cell_type": "code",
   "execution_count": 215,
   "metadata": {},
   "outputs": [
    {
     "name": "stdout",
     "output_type": "stream",
     "text": [
      "(5000, 500)\n"
     ]
    }
   ],
   "source": [
    "print(node2vec_emb.shape)"
   ]
  },
  {
   "cell_type": "code",
   "execution_count": 216,
   "metadata": {},
   "outputs": [
    {
     "name": "stdout",
     "output_type": "stream",
     "text": [
      "Time:  49.454301834106445\n"
     ]
    }
   ],
   "source": [
    "start = time.time()\n",
    "clustering_kmeans = KMeans(n_clusters=number_of_clusters).fit(node2vec_emb)\n",
    "labels_node2vec = clustering_kmeans.labels_\n",
    "end = time.time()\n",
    "print('Time: ', end - start)   "
   ]
  },
  {
   "cell_type": "code",
   "execution_count": 217,
   "metadata": {},
   "outputs": [
    {
     "name": "stdout",
     "output_type": "stream",
     "text": [
      "Number of clusters:  500  p:  0.5  q:  0.0006  ARI:  0.9097101711081506\n"
     ]
    }
   ],
   "source": [
    "print(\"Number of clusters: \", number_of_clusters, \" p: \", p, \" q: \", q,\" ARI: \", adjusted_rand_score(labels_node2vec, labels_true))"
   ]
  },
  {
   "cell_type": "markdown",
   "metadata": {},
   "source": [
    "visualization"
   ]
  },
  {
   "cell_type": "code",
   "execution_count": 246,
   "metadata": {},
   "outputs": [
    {
     "data": {
      "text/plain": [
       "[<matplotlib.lines.Line2D at 0x16dbf0b70>]"
      ]
     },
     "execution_count": 246,
     "metadata": {},
     "output_type": "execute_result"
    },
    {
     "data": {
      "image/png": "[encoded data removed]",
      "text/plain": [
       "<Figure size 432x288 with 1 Axes>"
      ]
     },
     "metadata": {},
     "output_type": "display_data"
    }
   ],
   "source": [
    "plt.plot(node2vec_emb[0,:])\n",
    "plt.plot(node2vec_emb[1,:])\n",
    "plt.plot(node2vec_emb[100,:])"
   ]
  },
  {
   "cell_type": "code",
   "execution_count": 218,
   "metadata": {},
   "outputs": [],
   "source": [
    "from sklearn.decomposition import PCA\n",
    "pca = PCA(n_components=2)\n",
    "principalComponents = pca.fit_transform(sp_emb)"
   ]
  },
  {
   "cell_type": "code",
   "execution_count": 219,
   "metadata": {},
   "outputs": [
    {
     "data": {
      "text/plain": [
       "<matplotlib.collections.PathCollection at 0x168c69828>"
      ]
     },
     "execution_count": 219,
     "metadata": {},
     "output_type": "execute_result"
    },
    {
     "data": {
      "image/png": "[encoded data removed]",
      "text/plain": [
       "<Figure size 432x288 with 1 Axes>"
      ]
     },
     "metadata": {},
     "output_type": "display_data"
    }
   ],
   "source": [
    "plt.scatter(principalComponents[:50,0], principalComponents[:50,1], c=labels_true[:50])"
   ]
  },
  {
   "cell_type": "markdown",
   "metadata": {},
   "source": [
    "## Local clustering"
   ]
  },
  {
   "cell_type": "code",
   "execution_count": 158,
   "metadata": {},
   "outputs": [
    {
     "name": "stdout",
     "output_type": "stream",
     "text": [
      "Nodes in cluster:  10\n",
      "Number of clusters:  500  p:  0.5  q:  0.0006  ARI:  0.9315223955078288 (l2-norm)\n",
      "Time:  1632.4126482009888\n"
     ]
    }
   ],
   "source": [
    "start = time.time()\n",
    "\n",
    "for number_of_nodes in list_number_of_nodes:\n",
    "    \n",
    "    print(\"Nodes in cluster: \", number_of_nodes)\n",
    "    \n",
    "    for number_of_clusters in list_number_of_clusters:\n",
    "        \n",
    "        # seed number\n",
    "        seed = random_seed\n",
    "        ra.seed(seed)\n",
    "        np.random.seed(seed)     \n",
    "        \n",
    "        # set parameters\n",
    "        number_of_large_clusters = 0\n",
    "        sizes = []\n",
    "        for i in range(number_of_clusters):\n",
    "            if i < number_of_large_clusters:\n",
    "                sizes.append(K)\n",
    "            else:\n",
    "                sizes.append(number_of_nodes)\n",
    "        n = np.sum(sizes)          \n",
    "                \n",
    "        probs = q * np.ones((number_of_clusters, number_of_clusters)) + (p-q) * np.eye(number_of_clusters) \n",
    "        g = nx.generators.community.stochastic_block_model(sizes, probs)\n",
    "        nx.write_edgelist(g, \"sbm.edgelist\",data=False)\n",
    "        g2 = GraphLocal('sbm.edgelist','edgelist',' ') # what is edgelist\n",
    "\n",
    "        # alpha\n",
    "        alpha = 0.1\n",
    "        \n",
    "        # compute upper- and lower bounds of rho\n",
    "        numerator   = q*(1-alpha)\n",
    "        avg_d       = p*number_of_nodes + q*(n - number_of_nodes)\n",
    "        denominator = 2*alpha*avg_d*avg_d + q*(1-alpha)*(number_of_nodes*avg_d + (n - number_of_nodes)*avg_d)\n",
    "        rho_down = numerator/denominator\n",
    "        \n",
    "        numerator   = p*(1-alpha)\n",
    "        denominator = avg_d*((1+alpha)*avg_d + (1-alpha)*p)\n",
    "        rho_up = numerator/denominator\n",
    "        \n",
    "        # compute all embeddings and distances\n",
    "        embeddings = compute_all_embeddings(g2,rho_list=[rho_down/3,rho_up/0.5],alpha_list=[0.03,0.1],nsamples_from_rho=10,nsamples_from_alpha=5,epsilon=1e-2,njobs=6)\n",
    "        X = normalize_embeddings(g2,embeddings, norm_type = 2)\n",
    "#         Y = normalize_embeddings(g2,embeddings, norm_type = 1)\n",
    "        Z_X = pairwise_distances(X, metric='l2', n_jobs=6)        \n",
    "#         Z_Y = pairwise_distances(Y, metric='l1', n_jobs=1)      \n",
    "        \n",
    "        labels_X = compute_clusters_given_distance(nclusters=number_of_clusters,Z=Z_X)\n",
    "#         labels_Y = compute_clusters_given_distance(nclusters=number_of_clusters,Z=Z_Y)\n",
    "        \n",
    "        labels_true = []\n",
    "        for i in range(number_of_clusters):\n",
    "            for j in range(sizes[i]):\n",
    "                labels_true.append(i)            \n",
    "        \n",
    "        print(\"Number of clusters: \", number_of_clusters, \" p: \", p, \" q: \", q,\" ARI: \", adjusted_rand_score(labels_X, labels_true), \"(l2-norm)\")\n",
    "#         print(\"Number of clusters: \", number_of_clusters, \" p: \", p, \" q: \", q,\" ARI: \", adjusted_rand_score(labels_Y, labels_true), \"(l1-norm)\")\n",
    "\n",
    "end = time.time()\n",
    "print('Time: ', end - start) "
   ]
  },
  {
   "cell_type": "code",
   "execution_count": null,
   "metadata": {},
   "outputs": [],
   "source": []
  },
  {
   "cell_type": "code",
   "execution_count": 242,
   "metadata": {},
   "outputs": [
    {
     "name": "stdout",
     "output_type": "stream",
     "text": [
      "1.3489329384675237\n",
      "1.4140356371347156\n"
     ]
    }
   ],
   "source": [
    "print(np.linalg.norm(X[0,:].toarray().reshape(-1) - X[2,:].toarray().reshape(-1)))\n",
    "print(np.linalg.norm(X[0,:].toarray().reshape(-1) - X[160,:].toarray().reshape(-1)))"
   ]
  },
  {
   "cell_type": "code",
   "execution_count": 253,
   "metadata": {},
   "outputs": [
    {
     "data": {
      "text/plain": [
       "0.09018996375868592"
      ]
     },
     "execution_count": 253,
     "metadata": {},
     "output_type": "execute_result"
    }
   ],
   "source": [
    "(np.linalg.norm(X[0,:].toarray().reshape(-1) @ X[2,:].toarray().reshape(-1)))\n",
    "(np.linalg.norm(X[0,:].toarray().reshape(-1) @ X[2,:].toarray().reshape(-1)))"
   ]
  },
  {
   "cell_type": "code",
   "execution_count": 255,
   "metadata": {},
   "outputs": [],
   "source": [
    "H = X.T @ X"
   ]
  },
  {
   "cell_type": "code",
   "execution_count": 257,
   "metadata": {},
   "outputs": [
    {
     "data": {
      "text/plain": [
       "<matplotlib.image.AxesImage at 0x166de15c0>"
      ]
     },
     "execution_count": 257,
     "metadata": {},
     "output_type": "execute_result"
    },
    {
     "data": {
      "image/png": "[encoded data removed]",
      "text/plain": [
       "<Figure size 432x288 with 1 Axes>"
      ]
     },
     "metadata": {},
     "output_type": "display_data"
    }
   ],
   "source": [
    "plt.imshow(H[:30,:30].toarray())"
   ]
  },
  {
   "cell_type": "code",
   "execution_count": 243,
   "metadata": {},
   "outputs": [
    {
     "name": "stdout",
     "output_type": "stream",
     "text": [
      "inf\n",
      "inf\n"
     ]
    }
   ],
   "source": [
    "from scipy.stats import entropy\n",
    "print(entropy(X[0,:].toarray().reshape(-1), X1[2,:].toarray().reshape(-1)))\n",
    "print(entropy(X[0,:].toarray().reshape(-1), X1[160,:].toarray().reshape(-1)))\n",
    "\n"
   ]
  },
  {
   "cell_type": "code",
   "execution_count": 245,
   "metadata": {},
   "outputs": [
    {
     "data": {
      "text/plain": [
       "[<matplotlib.lines.Line2D at 0x166860cc0>]"
      ]
     },
     "execution_count": 245,
     "metadata": {},
     "output_type": "execute_result"
    },
    {
     "data": {
      "image/png": "[encoded data removed]",
      "text/plain": [
       "<Figure size 432x288 with 1 Axes>"
      ]
     },
     "metadata": {},
     "output_type": "display_data"
    }
   ],
   "source": [
    "plt.plot(X[0,:].toarray().reshape(-1))\n",
    "plt.plot(X[1,:].toarray().reshape(-1))\n",
    "plt.plot(X[200,:].toarray().reshape(-1))"
   ]
  },
  {
   "cell_type": "code",
   "execution_count": 163,
   "metadata": {},
   "outputs": [
    {
     "data": {
      "text/plain": [
       "[<matplotlib.lines.Line2D at 0x164fbc828>]"
      ]
     },
     "execution_count": 163,
     "metadata": {},
     "output_type": "execute_result"
    },
    {
     "data": {
      "image/png": "[encoded data removed]",
      "text/plain": [
       "<Figure size 432x288 with 1 Axes>"
      ]
     },
     "metadata": {},
     "output_type": "display_data"
    }
   ],
   "source": [
    "plt.plot(X[9,:].toarray().reshape(-1))"
   ]
  },
  {
   "cell_type": "markdown",
   "metadata": {},
   "source": [
    "visualization"
   ]
  },
  {
   "cell_type": "code",
   "execution_count": 239,
   "metadata": {},
   "outputs": [
    {
     "data": {
      "text/plain": [
       "(array([   0,    1,    2, ..., 4993, 4998, 4999], dtype=uint32),\n",
       " array([5.05294867e-02, 8.30399782e-04, 1.03905313e-03, ...,\n",
       "        8.50645241e-06, 8.54957009e-07, 9.82298621e-07]))"
      ]
     },
     "execution_count": 239,
     "metadata": {},
     "output_type": "execute_result"
    }
   ],
   "source": [
    "embeddings[0]"
   ]
  },
  {
   "cell_type": "code",
   "execution_count": 240,
   "metadata": {},
   "outputs": [],
   "source": [
    "sum_ = 0\n",
    "JA = [0]\n",
    "IA = []\n",
    "A  = []\n",
    "for data in embeddings:\n",
    "    vec = data[1]/np.linalg.norm(data[1],1)\n",
    "    how_many = len(data[0])\n",
    "    sum_ += how_many\n",
    "    JA.append(sum_)\n",
    "    IA.extend(list(data[0]))\n",
    "    A.extend(list(vec))\n",
    "X1 = sp.sparse.csc_matrix((A, IA, JA), shape=(n, n))    "
   ]
  },
  {
   "cell_type": "code",
   "execution_count": null,
   "metadata": {},
   "outputs": [],
   "source": []
  },
  {
   "cell_type": "code",
   "execution_count": 142,
   "metadata": {},
   "outputs": [],
   "source": [
    "from sklearn.decomposition import PCA\n",
    "pca = PCA(n_components=2)\n",
    "principalComponents = pca.fit_transform(X.toarray())"
   ]
  },
  {
   "cell_type": "code",
   "execution_count": 143,
   "metadata": {},
   "outputs": [
    {
     "data": {
      "text/plain": [
       "<matplotlib.collections.PathCollection at 0x172d7bfd0>"
      ]
     },
     "execution_count": 143,
     "metadata": {},
     "output_type": "execute_result"
    },
    {
     "data": {
      "image/png": "[encoded data removed]",
      "text/plain": [
       "<Figure size 432x288 with 1 Axes>"
      ]
     },
     "metadata": {},
     "output_type": "display_data"
    }
   ],
   "source": [
    "plt.scatter(principalComponents[:50,0], principalComponents[:50,1], c=labels_true[:50])"
   ]
  },
  {
   "cell_type": "code",
   "execution_count": 224,
   "metadata": {},
   "outputs": [],
   "source": [
    "dist = []\n",
    "for i in range(n):\n",
    "    dist.append(np.linalg.norm(X[0,:].toarray()) - np.linalg.norm(X[i,:].toarray()))"
   ]
  },
  {
   "cell_type": "code",
   "execution_count": 225,
   "metadata": {},
   "outputs": [
    {
     "data": {
      "text/plain": [
       "[<matplotlib.lines.Line2D at 0x168a2db70>]"
      ]
     },
     "execution_count": 225,
     "metadata": {},
     "output_type": "execute_result"
    },
    {
     "data": {
      "image/png": "[encoded data removed]",
      "text/plain": [
       "<Figure size 432x288 with 1 Axes>"
      ]
     },
     "metadata": {},
     "output_type": "display_data"
    }
   ],
   "source": [
    "plt.plot(dist)"
   ]
  },
  {
   "cell_type": "code",
   "execution_count": null,
   "metadata": {},
   "outputs": [],
   "source": []
  },
  {
   "cell_type": "code",
   "execution_count": null,
   "metadata": {},
   "outputs": [],
   "source": [
    "# start = time.time()\n",
    "\n",
    "# for number_of_nodes in list_number_of_nodes:\n",
    "    \n",
    "#     print(\"Nodes in cluster: \", number_of_nodes)\n",
    "    \n",
    "#     for number_of_clusters in list_number_of_clusters:\n",
    "        \n",
    "#         # seed number\n",
    "#         seed = random_seed\n",
    "#         ra.seed(seed)\n",
    "#         np.random.seed(seed)     \n",
    "        \n",
    "#         # set parameters\n",
    "#         number_of_large_clusters = 0\n",
    "#         sizes = []\n",
    "#         for i in range(number_of_clusters):\n",
    "#             if i < number_of_large_clusters:\n",
    "#                 sizes.append(K)\n",
    "#             else:\n",
    "#                 sizes.append(number_of_nodes)\n",
    "#         n = np.sum(sizes)          \n",
    "                \n",
    "#         probs = q * np.ones((number_of_clusters, number_of_clusters)) + (p-q) * np.eye(number_of_clusters) \n",
    "#         g = nx.generators.community.stochastic_block_model(sizes, probs)\n",
    "#         nx.write_edgelist(g, \"sbm.edgelist\",data=False)\n",
    "#         g2 = GraphLocal('sbm.edgelist','edgelist',' ') # what is edgelist\n",
    "        \n",
    "#         # embedding matrices\n",
    "#         X = np.zeros((n,n))\n",
    "#         Y = np.zeros((n,n))\n",
    "        \n",
    "#         # alpha\n",
    "#         alpha = 0.05\n",
    "        \n",
    "#         # compute upper- and lower bounds of rho\n",
    "#         numerator   = q*(1-alpha)\n",
    "#         avg_d       = p*number_of_nodes + q*(n - number_of_nodes)\n",
    "#         denominator = 2*alpha*avg_d*avg_d + q*(1-alpha)*(number_of_nodes*avg_d + (n - number_of_nodes)*avg_d)\n",
    "#         rho_down = numerator/denominator\n",
    "        \n",
    "#         numerator   = p*(1-alpha)\n",
    "#         denominator = avg_d*((1+alpha)*avg_d + (1-alpha)*p)\n",
    "#         rho_up = numerator/denominator\n",
    "        \n",
    "#         for node in range(n):\n",
    "            \n",
    "#             ref_node = [node]\n",
    "            \n",
    "#             n_samples = 500\n",
    "#             rho_list = list(np.linspace(rho_down/3, rho_up/0.5, n_samples, endpoint=True))\n",
    "\n",
    "#             min_crit = 10000\n",
    "#             min_crit_embedding = 0\n",
    "            \n",
    "#             warm_start = list(np.zeros(n))\n",
    "            \n",
    "#             for rho in list(reversed(rho_list)):\n",
    "                \n",
    "#                 output = approximate_PageRank(g2,ref_node,method = \"l1reg-rand\",alpha=alpha,rho=rho,normalize=False,normalized_objective=False,epsilon=1.0e-10,iterations=10000,ys=warm_start) \n",
    "                \n",
    "#                 conductance = g2.compute_conductance(output[0])\n",
    "           \n",
    "#                 warm_start = np.zeros(n)\n",
    "#                 warm_start[output[0]] = output[1]\n",
    "#                 warm_start = list(warm_start)\n",
    "                \n",
    "#                 crit = conductance\n",
    "#                 if crit <= min_crit:\n",
    "#                     min_crit = crit\n",
    "#                     min_crit_embedding = output\n",
    "\n",
    "#             X[node,min_crit_embedding[0]] = min_crit_embedding[1]/np.linalg.norm(min_crit_embedding[1],2)\n",
    "#             Y[node,min_crit_embedding[0]] = min_crit_embedding[1]/np.linalg.norm(min_crit_embedding[1],1)\n",
    "\n",
    "#         Z_X = pairwise_distances(X, metric='l2', n_jobs=4)\n",
    "#         Z_Y = pairwise_distances(Y, metric='l1', n_jobs=4)\n",
    "        \n",
    "#         labels_X = compute_clusters_given_distance(nclusters=number_of_clusters,Z=Z_X)\n",
    "#         labels_Y = compute_clusters_given_distance(nclusters=number_of_clusters,Z=Z_Y)\n",
    "        \n",
    "#         labels_true = []\n",
    "#         for i in range(number_of_clusters):\n",
    "#             for j in range(sizes[i]):\n",
    "#                 labels_true.append(i)            \n",
    "        \n",
    "#         print(\"Number of clusters: \", number_of_clusters, \" p: \", p, \" q: \", q,\" ARI: \", adjusted_rand_score(labels_X, labels_true), \"(l2-norm)\")\n",
    "#         print(\"Number of clusters: \", number_of_clusters, \" p: \", p, \" q: \", q,\" ARI: \", adjusted_rand_score(labels_Y, labels_true), \"(l1-norm)\")\n",
    "\n",
    "# end = time.time()\n",
    "# print('Time: ', end - start) "
   ]
  },
  {
   "cell_type": "code",
   "execution_count": null,
   "metadata": {},
   "outputs": [],
   "source": []
  },
  {
   "cell_type": "code",
   "execution_count": null,
   "metadata": {},
   "outputs": [],
   "source": []
  },
  {
   "cell_type": "code",
   "execution_count": null,
   "metadata": {},
   "outputs": [],
   "source": []
  },
  {
   "cell_type": "code",
   "execution_count": null,
   "metadata": {},
   "outputs": [],
   "source": []
  },
  {
   "cell_type": "code",
   "execution_count": null,
   "metadata": {},
   "outputs": [],
   "source": []
  },
  {
   "cell_type": "code",
   "execution_count": null,
   "metadata": {},
   "outputs": [],
   "source": []
  },
  {
   "cell_type": "code",
   "execution_count": null,
   "metadata": {
    "scrolled": false
   },
   "outputs": [],
   "source": []
  },
  {
   "cell_type": "code",
   "execution_count": null,
   "metadata": {},
   "outputs": [],
   "source": []
  },
  {
   "cell_type": "code",
   "execution_count": null,
   "metadata": {},
   "outputs": [],
   "source": []
  },
  {
   "cell_type": "code",
   "execution_count": null,
   "metadata": {},
   "outputs": [],
   "source": []
  },
  {
   "cell_type": "code",
   "execution_count": null,
   "metadata": {},
   "outputs": [],
   "source": []
  },
  {
   "cell_type": "code",
   "execution_count": null,
   "metadata": {},
   "outputs": [],
   "source": []
  },
  {
   "cell_type": "code",
   "execution_count": null,
   "metadata": {},
   "outputs": [],
   "source": []
  },
  {
   "cell_type": "code",
   "execution_count": null,
   "metadata": {},
   "outputs": [],
   "source": []
  },
  {
   "cell_type": "code",
   "execution_count": null,
   "metadata": {},
   "outputs": [],
   "source": []
  },
  {
   "cell_type": "code",
   "execution_count": null,
   "metadata": {},
   "outputs": [],
   "source": []
  },
  {
   "cell_type": "code",
   "execution_count": null,
   "metadata": {},
   "outputs": [],
   "source": []
  },
  {
   "cell_type": "code",
   "execution_count": null,
   "metadata": {},
   "outputs": [],
   "source": []
  },
  {
   "cell_type": "code",
   "execution_count": null,
   "metadata": {},
   "outputs": [],
   "source": []
  },
  {
   "cell_type": "code",
   "execution_count": null,
   "metadata": {},
   "outputs": [],
   "source": []
  },
  {
   "cell_type": "code",
   "execution_count": null,
   "metadata": {},
   "outputs": [],
   "source": []
  },
  {
   "cell_type": "code",
   "execution_count": null,
   "metadata": {},
   "outputs": [],
   "source": []
  },
  {
   "cell_type": "code",
   "execution_count": null,
   "metadata": {},
   "outputs": [],
   "source": []
  },
  {
   "cell_type": "code",
   "execution_count": null,
   "metadata": {},
   "outputs": [],
   "source": []
  },
  {
   "cell_type": "code",
   "execution_count": null,
   "metadata": {},
   "outputs": [],
   "source": []
  },
  {
   "cell_type": "code",
   "execution_count": null,
   "metadata": {},
   "outputs": [],
   "source": []
  },
  {
   "cell_type": "code",
   "execution_count": null,
   "metadata": {},
   "outputs": [],
   "source": []
  },
  {
   "cell_type": "code",
   "execution_count": null,
   "metadata": {},
   "outputs": [],
   "source": []
  },
  {
   "cell_type": "code",
   "execution_count": null,
   "metadata": {},
   "outputs": [],
   "source": []
  },
  {
   "cell_type": "code",
   "execution_count": null,
   "metadata": {},
   "outputs": [],
   "source": []
  },
  {
   "cell_type": "code",
   "execution_count": null,
   "metadata": {},
   "outputs": [],
   "source": []
  },
  {
   "cell_type": "code",
   "execution_count": null,
   "metadata": {},
   "outputs": [],
   "source": []
  },
  {
   "cell_type": "code",
   "execution_count": null,
   "metadata": {},
   "outputs": [],
   "source": []
  },
  {
   "cell_type": "code",
   "execution_count": null,
   "metadata": {},
   "outputs": [],
   "source": []
  },
  {
   "cell_type": "code",
   "execution_count": null,
   "metadata": {},
   "outputs": [],
   "source": []
  },
  {
   "cell_type": "code",
   "execution_count": null,
   "metadata": {},
   "outputs": [],
   "source": []
  },
  {
   "cell_type": "code",
   "execution_count": null,
   "metadata": {},
   "outputs": [],
   "source": []
  }
 ],
 "metadata": {
  "kernelspec": {
   "display_name": "Python 3",
   "language": "python",
   "name": "python3"
  },
  "language_info": {
   "codemirror_mode": {
    "name": "ipython",
    "version": 3
   },
   "file_extension": ".py",
   "mimetype": "text/x-python",
   "name": "python",
   "nbconvert_exporter": "python",
   "pygments_lexer": "ipython3",
   "version": "3.6.7"
  }
 },
 "nbformat": 4,
 "nbformat_minor": 2
}
