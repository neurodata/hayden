{
 "cells": [
  {
   "cell_type": "code",
   "execution_count": 3,
   "metadata": {
    "scrolled": true
   },
   "outputs": [],
   "source": [
    "import sys,os,time,pickle\n",
    "\n",
    "#numerical stuff\n",
    "import scipy as sp # is this necessary? \n",
    "import numpy as np # is this necessary?\n",
    "import networkx as nx # is this necessary? \n",
    "\n",
    "#plotting stuff\n",
    "import matplotlib.pyplot as plt\n",
    "import seaborn as sns\n",
    "sns.set()\n",
    "\n",
    "import random as ra # is this necessary?\n",
    "\n",
    "#clustering\n",
    "from sklearn.cluster import AgglomerativeClustering # is this necessary?\n",
    "from sklearn.cluster import KMeans # is this necessary?\n",
    "from sklearn.cluster import DBSCAN # is this necessary?\n",
    "\n",
    "#metrics\n",
    "from sklearn.metrics import adjusted_rand_score as ari\n",
    "from sklearn.metrics import pairwise_distances\n",
    "\n",
    "#graspy and lgc\n",
    "from graspy.embed import *\n",
    "from graspy.simulations import sbm\n",
    "from graspy.cluster import GaussianCluster\n",
    "import localgraphclustering as lgc"
   ]
  },
  {
   "cell_type": "markdown",
   "metadata": {},
   "source": [
    "This notebook investigates the performance of LGC and global spectral methods on a class of community detection tasks. In particular, assume $ A \\sim SBM(\\pi, n, B) $ where \n",
    "\n",
    "$$ B = \\begin{bmatrix} p & q & ... & q \\\\ \\vdots & \\ddots & & \\vdots\\\\ \\vdots & & \\ddots & \\vdots \\\\ q & ... & q & p \\end{bmatrix} $$\n",
    "\n",
    "and $ \\pi = \\frac{1}{K} \\begin{bmatrix} 1 & 1 & .. & 1 \\end{bmatrix} ^{T} $. Apart from the effects of $ p $ and $ q $ on the two clustering techniques, there are two important regimes we are interested in: $ K = O(1) $ and $ K = o(n) $. In the first part of the notebook we fix $ K $. In the second part we allow $ K $ to grow as $ log(n) $ "
   ]
  },
  {
   "cell_type": "code",
   "execution_count": 49,
   "metadata": {},
   "outputs": [],
   "source": []
  },
  {
   "cell_type": "code",
   "execution_count": 23,
   "metadata": {},
   "outputs": [],
   "source": [
    "# K fixed, n grows, q is fixed \n",
    "\n",
    "K = 2 # Fix number of clusters to be 2\n",
    "h = 500 # step size for the ns we consider\n",
    "ns = np.arange(500, 10000 + h, step=h) # sizes of graph to consider\n",
    "mc_its = 10\n",
    "\n",
    "p = 0.5\n",
    "q = 0.1\n",
    "B = np.array([\n",
    "    [p, q],\n",
    "    [q, p]\n",
    "])\n",
    "\n",
    "pi = (1/K) * np.ones(K)\n",
    "\n",
    "def experiment(n, pi, B, n_clusters=2, acorn=None):\n",
    "    if acorn is not None:\n",
    "        np.random.seed(acorn)\n",
    "        \n",
    "    P = np.random.multinomial(n, pi)\n",
    "    Y = np.concatenate([i*np.ones(P[i]) for i in range(len(pi))])\n",
    "    A = sbm(P, B)\n",
    "    G = nx.from_numpy_array(A)\n",
    "    nx.write_edgelist(G, \"sbm.edgelist\",data=False)\n",
    "    g = lgc.GraphLocal('sbm.edgelist','edgelist',' ') \n",
    "    \n",
    "    ASE = AdjacencySpectralEmbed()\n",
    "    X_hat = ASE.fit_transform(A)\n",
    "    \n",
    "    GMM = GaussianCluster(min_components=n_clusters, max_components=n_clusters)\n",
    "    y = GMM.fit_predict(X_hat)\n",
    "    ari_ase = ari(y, Y)\n",
    "    \n",
    "    LSE = AdjacencySpectralEmbed()\n",
    "    X_hat = LSE.fit_transform(A)\n",
    "    \n",
    "    GMM = GaussianCluster(min_components=n_clusters, max_components=n_clusters)\n",
    "    y = GMM.fit_predict(X_hat)\n",
    "    ari_lse = ari(y, Y)\n",
    "    \n",
    "    # now local stuff, will require for loop over all nodes in graph..\n",
    "    ACLs = np.ones((n,n))\n",
    "    for i in range(n):\n",
    "        seed = [i]\n",
    "        acl = lgc.approximate_PageRank(g,seed,normalize=False)[1] + (1/n)*np.ones(n)\n",
    "        ACLs[i] = acl\n",
    "        \n",
    "    #- \n",
    "    GMM_local = GaussianCluster(min_components=n_clusters,max_components=n_clusters)\n",
    "    y = GMM_local.fit_predict(ACLs)\n",
    "    ari_lgc = ari(y, Y)\n",
    "    \n",
    "    return ari_ase, ari_lse, ari_lgc"
   ]
  },
  {
   "cell_type": "code",
   "execution_count": 24,
   "metadata": {},
   "outputs": [
    {
     "data": {
      "text/plain": [
       "(1.0, 1.0, -0.0013845001140177417)"
      ]
     },
     "execution_count": 24,
     "metadata": {},
     "output_type": "execute_result"
    }
   ],
   "source": [
    "experiment(100, pi, B)"
   ]
  },
  {
   "cell_type": "code",
   "execution_count": 47,
   "metadata": {},
   "outputs": [],
   "source": []
  },
  {
   "cell_type": "code",
   "execution_count": null,
   "metadata": {},
   "outputs": [],
   "source": []
  }
 ],
 "metadata": {
  "kernelspec": {
   "display_name": "hh",
   "language": "python",
   "name": "hh"
  },
  "language_info": {
   "codemirror_mode": {
    "name": "ipython",
    "version": 3
   },
   "file_extension": ".py",
   "mimetype": "text/x-python",
   "name": "python",
   "nbconvert_exporter": "python",
   "pygments_lexer": "ipython3",
   "version": "3.6.7"
  }
 },
 "nbformat": 4,
 "nbformat_minor": 2
}
